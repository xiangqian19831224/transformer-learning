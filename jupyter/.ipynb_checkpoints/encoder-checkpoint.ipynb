{
 "cells": [
  {
   "cell_type": "code",
   "execution_count": null,
   "metadata": {},
   "outputs": [],
   "source": [
    "import torch.nn as nn"
   ]
  },
  {
   "cell_type": "code",
   "execution_count": null,
   "metadata": {},
   "outputs": [],
   "source": [
    "class PositionwiseFeedForward(nn,Module):\n",
    "    def _init_(self,d_model,hidden,dropout=0.1):\n",
    "        super(PositionwiseFeedForward,self)._init_()\n",
    "        self.fc1=nn.Linear(d_model,hidden)\n",
    "        self.fc2=nn.Linear(hidden,d_model)\n",
    "        self.dropout=nn.Dropout(dropout)\n",
    "    def forward(self,x):\n",
    "        x=self.fc1(x)\n",
    "        x=F.relu(x)\n",
    "        x.self.dropout(x)\n",
    "        x=self.fc2(x)\n",
    "        return x"
   ]
  },
  {
   "cell_type": "code",
   "execution_count": null,
   "metadata": {},
   "outputs": [],
   "source": [
    "class EncoderLayer(nn.Module):\n",
    "    def _init_(self,d_model,ffn_hidden,n_head,dropout=0,1):\n",
    "        super(EncoderLayer,self)._init_()\n",
    "        self.attention=MultiHeadAttention(d_model,n_head)\n",
    "        self.norm1=LayerNorm(d_model)\n",
    "        self.dropout1=nn.Dropout(dropout)\n",
    "        self.ffn=PositionwiseFeedForward(d_model,ffn_hidden,dropout)\n",
    "        self.norm2=LayerNorm(d_model)\n",
    "        self.dropout2=nn.Dropout(dropout)\n",
    "    def forward(self,x,mask=None):\n",
    "        _x=x\n",
    "        x=self.attention(x,x,x,mask)\n",
    "        x=self.dropout1(x)\n",
    "        x=self.norm1(x+_x)\n",
    "        _x=x\n",
    "        x=self.ffn(x)\n",
    "        x=self.dropout2(x)\n",
    "        x=self.norm2(x+_x)\n",
    "        return x \n"
   ]
  },
  {
   "cell_type": "code",
   "execution_count": null,
   "metadata": {},
   "outputs": [],
   "source": [
    "class Encoder(nn.Module):\n",
    "    def _init_(self,enc_voc_size,max_len,d_model,ffn_hidden,n_head,n_layer,dropout=0.1,device):\n",
    "        super(Encoder,self)._init_()\n",
    "        self.embedding=TransformerEmbedding(enc_voc_size,max_len,d_model,dropout=0.1,device)\n",
    "        self.layers=nn.ModuleList(\n",
    "            [\n",
    "                EncoderLayer(d_model,ffn_hidden,n_head,dropout)\n",
    "                for _ in range(n_layer)\n",
    "            ]\n",
    "        )\n",
    "    def forward(self,x,s_mask):\n",
    "        x=self.embedding(x)\n",
    "        for layer in self.layers:\n",
    "            x=layer(x,s_mask)\n",
    "        return x"
   ]
  }
 ],
 "metadata": {
  "kernelspec": {
   "display_name": "Python 3 (ipykernel)",
   "language": "python",
   "name": "python3"
  },
  "language_info": {
   "codemirror_mode": {
    "name": "ipython",
    "version": 3
   },
   "file_extension": ".py",
   "mimetype": "text/x-python",
   "name": "python",
   "nbconvert_exporter": "python",
   "pygments_lexer": "ipython3",
   "version": "3.12.0"
  }
 },
 "nbformat": 4,
 "nbformat_minor": 4
}
