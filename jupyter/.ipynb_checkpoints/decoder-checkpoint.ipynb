{
 "cells": [
  {
   "cell_type": "code",
   "execution_count": null,
   "metadata": {},
   "outputs": [],
   "source": [
    "import torch\n",
    "from torch import nn \n",
    "import torch.nn.functional as F\n",
    "import math"
   ]
  },
  {
   "cell_type": "code",
   "execution_count": null,
   "metadata": {},
   "outputs": [],
   "source": [
    "class DecoderLayer(nn.Module):\n",
    "    def __init__(self,d_model,ffn_hidden,n_head,drop_prob):\n",
    "        super(DecoderLayer,self).__init__()\n",
    "        self.attention1=MutiHeadAttention(d_model,n_head)\n",
    "        self.norm1=LayerNorm(d_model)\n",
    "        self.dropout1=nn.Dropout(drop_prob)\n",
    "        self.cross_attention=MutiHeadAttention(d_model,n_head)\n",
    "        self.norm2=LayerNorm(d_model)\n",
    "        self.dropout2=nn.Dropout(drop_prob)\n",
    "        self.ffn=PositionwiseFeedForward(d_model,ffn_hidden,drop_prob)\n",
    "        self.norm3=LayerNorm(d_model)\n",
    "        self.dropout3=nn.Dropout(drop_prob)\n",
    "    def forward(self,dec,enc,t_mask,s_mask)\n",
    "        _x=dec\n",
    "        x=self.attention1(dec,dec,dec,t_mask)\n",
    "        x=self.dropout1(x)\n",
    "        x=self.norm1(x+_x)\n",
    "        _x=x\n",
    "        x=self.cross_attention(x,enc,enc,s_mask)\n",
    "        x=self.dropout2(x)\n",
    "        x=self.norm2(x+_x)\n",
    "        x=self.ffn(x)\n",
    "        x=self.dropout3(x)\n",
    "        x=self.norm3(x+_x)\n",
    "        return x"
   ]
  },
  {
   "cell_type": "code",
   "execution_count": null,
   "metadata": {},
   "outputs": [],
   "source": [
    "class Decoder(nn.Module):\n",
    "    def __init__(self,dec_voc_size,max_len,d_model,ffn_hidden,n_head,n_layer,drop_prob,device)\n",
    "        super(Decoder).__init__()\n",
    "        self.embedding = TransformerEmbedding(\n",
    "            dec_voc_size, d_model, max_len, drop_prob, device\n",
    "        )\n",
    "        self.layers = nn.ModuleList(\n",
    "            [\n",
    "                DecoderLayer(d_model, ffn_hidden, n_head, drop_prob)\n",
    "                for _ in range(n_layer)\n",
    "            ]\n",
    "        )\n",
    "        self.fc=nn.Linear(d_model,dec_voc_size)\n",
    "    \n",
    "    def forward(self, dec,enc, t_mask,s_mask):\n",
    "        dec = self.embedding(enc)\n",
    "        for layer in self.layers:\n",
    "            dec = layer(dec,enc,t_mask, s_mask)\n",
    "        dec=self.fc(dec)\n",
    "        return dec"
   ]
  }
 ],
 "metadata": {
  "kernelspec": {
   "display_name": "mage",
   "language": "python",
   "name": "python3"
  },
  "language_info": {
   "name": "python",
   "version": "3.9.19"
  }
 },
 "nbformat": 4,
 "nbformat_minor": 2
}
